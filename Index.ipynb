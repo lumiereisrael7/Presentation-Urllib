{
 "cells": [
  {
   "cell_type": "markdown",
   "metadata": {},
   "source": [
    "# <center style='color: green; font-size: 50px; font-family: Georgia, serif;'> Presentation de URLLIB </center>"
   ]
  },
  {
   "cell_type": "markdown",
   "metadata": {},
   "source": [
    "# <span style='color: blue; font-family: Georgia, serif; font-size: 40px'> Sommaire </span> \n",
    "\n",
    "## <span style=\"color: blue\"> I -  [Présentations](00.presentation.urllib.ipynb) </span>\n",
    "\n",
    "## <span style=\"color: blue\">II -  [Introduction et généralité](01.introduction.urllib.ipynb) </span>\n",
    "\n",
    "## <span style=\"color: blue\">III - [Les modules de urllib](02.modules.urllib.ipynb) </span>\n",
    "\n",
    "## <span style=\"color: blue\">IV - [Conclusion](03.conclusion.urllib.ipynb) </span>"
   ]
  },
  {
   "cell_type": "markdown",
   "metadata": {},
   "source": [
    "<div style=\"font-size: 15px; font-family: cursive; text-align: right; color: orange\">Cours Python L3 Info IMSP - Bénin <a href='https://github.com/lumiereisrael7'> Lumière Israel </a> </div>"
   ]
  }
 ],
 "metadata": {
  "kernelspec": {
   "display_name": "Python 3",
   "language": "python",
   "name": "python3"
  },
  "language_info": {
   "codemirror_mode": {
    "name": "ipython",
    "version": 3
   },
   "file_extension": ".py",
   "mimetype": "text/x-python",
   "name": "python",
   "nbconvert_exporter": "python",
   "pygments_lexer": "ipython3",
   "version": "3.8.5"
  }
 },
 "nbformat": 4,
 "nbformat_minor": 4
}
