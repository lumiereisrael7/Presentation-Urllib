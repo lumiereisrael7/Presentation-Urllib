{
 "cells": [
  {
   "cell_type": "markdown",
   "metadata": {},
   "source": [
    "# <center style='color: green; font-size: 50px; font-family: Georgia, serif;'> Presentation de URLLIB </center>"
   ]
  },
  {
   "cell_type": "markdown",
   "metadata": {},
   "source": [
    "# <center> <b> <span style=\"color:blue; font-family: Georgia, serif; font-size: 40px\"> Présentation </span> </b></center>"
   ]
  },
  {
   "cell_type": "markdown",
   "metadata": {},
   "source": [
    "<!--NAVIGATION-->\n",
    "< [Sommaire](Index.ipynb) | [Introduction et Généralité](01.introduction.urllib.ipynb) >"
   ]
  },
  {
   "cell_type": "markdown",
   "metadata": {},
   "source": [
    "### <left> <b> <span style=\"color:brown;font-family: Georgia, serif; font-size: 20px\"> Objectif: </span> </b></left>\n",
    "\n",
    "<p style=\"text-align: justify; font-family: Georgia, serif; font-size: 17px\"> L'objectif de cette présentation est d'offrir une vue générale du module python <b>urllib</b> qui offre une interface entre les pages web et notre programme que nous écrivons en python. A la fin de cette présentation, vous serez donc en mesure de dire précisement ce qu'est ce module et vous saurez également l'employer dans vos projets de développement en python. Précisement dans ceux où vous aurez besoin de travailler sur des pages webs connaissant leur <b>URL</b><br> <br>La présentation sera faite avec plusieurs fichiers (fait avec les calpins jupiter-notebook), chaque fichier ayant un but précis. \n",
    "<br> <br>Pour avoir accès a ce support vous pourriez <b>Forker</b> ou <b>Cloner</b> le depot depuis <a href=\"https://github.com/lumiereisrael7/Presentation-urllib\">github</a>.\n",
    "<br> <br>Pour vos differentes suggestions et/ou corrections, faites les moi parvenir par un pull requests.</p>"
   ]
  },
  {
   "cell_type": "markdown",
   "metadata": {},
   "source": [
    "### <left> <b> <span style=\"color:brown; font-family: Georgia, serif; font-size: 20px\">Présentateur : </span> </b></left>[Israel Godonou](https://github.com/lumiereisrael7)\n",
    "\n",
    "Étudiant en 3<sup>e</sup> année de licence informatique à l'<b>Institut de Mathématiques et de Sciences Physiques (<a href=\"http://www.imsp-benin.com/home/\">IMSP</a>) Bénin</b>."
   ]
  },
  {
   "cell_type": "markdown",
   "metadata": {},
   "source": [
    "## Passons à l'introduction à urllib"
   ]
  },
  {
   "cell_type": "markdown",
   "metadata": {},
   "source": [
    "<!--NAVIGATION-->\n",
    "< [Sommaire](Index.ipynb) | [Introduction et Généralité](01.introduction.urllib.ipynb) >"
   ]
  },
  {
   "cell_type": "markdown",
   "metadata": {},
   "source": [
    "<div style=\"font-size: 15px; font-family: cursive; text-align: right; color: orange\">Cours Python L3 Info IMSP - Bénin <a href='https://github.com/lumiereisrael7'> Lumière Israel </a> </div>"
   ]
  }
 ],
 "metadata": {
  "kernelspec": {
   "display_name": "Python 3",
   "language": "python",
   "name": "python3"
  },
  "language_info": {
   "codemirror_mode": {
    "name": "ipython",
    "version": 3
   },
   "file_extension": ".py",
   "mimetype": "text/x-python",
   "name": "python",
   "nbconvert_exporter": "python",
   "pygments_lexer": "ipython3",
   "version": "3.8.5"
  }
 },
 "nbformat": 4,
 "nbformat_minor": 4
}
