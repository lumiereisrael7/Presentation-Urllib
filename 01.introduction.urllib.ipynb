{
 "cells": [
  {
   "cell_type": "markdown",
   "metadata": {},
   "source": [
    "# <center style='color: green; font-size: 50px; font-family: Georgia, serif;'> Presentation de URLLIB </center>"
   ]
  },
  {
   "cell_type": "markdown",
   "metadata": {},
   "source": [
    "# <center> <b> <span style=\"color:blue; font-family: Georgia, serif; font-size: 35px\"> Introduction et Généralités </span> </b></center>"
   ]
  },
  {
   "cell_type": "markdown",
   "metadata": {},
   "source": [
    "<!--NAVIGATION-->\n",
    "< [Présentation](00.presentation.urllib.ipynb) | [Les modules de urllib](02.modules.urllib.ipynb) >"
   ]
  },
  {
   "cell_type": "markdown",
   "metadata": {},
   "source": [
    "### <left> <b> <span style=\"color:brown;font-family: Georgia, serif; font-size: 20px\"> Introduction: </span> </b></left>\n",
    "\n",
    "<p style=\"text-align: justify; font-family: Georgia, serif; font-size: 17px\"> Comme plusieurs d'entre nous le savons déjà, le langage de programmation python est un langage généraliste, bien développé, ayant une grande communauté et donc offre beaucoup de possibilités aux programeurs de travailler librement et de façon aisé dans n'importe quel domaine qui l'intéresse. Ainsi pour les amoureux du web, et des pages webs, python leur offre un module puissant <b>urllib</b> (l'objet de notre présentation) leur permettant d'accéder à des sites webs via leur programme, que ce soit pour obtenir, analyser, publier... des données. Tout ceci grâce à l'<b>URL</b>(Uniform Resource Locators) de cette page.</p>\n",
    "<p style=\"text-align: justify; font-family: Georgia, serif; font-size: 17px\"> Ce module est donc un module de gestion des URLs pour python et est utilisé pour récupérer des URL. Il utilise la fonction <b>urlopen</b> et est capable de récupérer des URL en utilisant une variété de protocoles différents.</p>"
   ]
  },
  {
   "cell_type": "markdown",
   "metadata": {},
   "source": [
    "### <left> <b> <span style=\"color:brown;font-family: Georgia, serif; font-size: 20px\"> Version python et urllib: </span> </b></left>\n",
    "<p style=\"text-align: justify; font-family: Georgia, serif; font-size: 17px\">urllib dans Python 3 est légèrement différent de urllib2 dans Python 2, mais ils sont pour la plupart identiques. Ce module a été divisé en plusieurs parties et renommées en Python 3 en <b>urllib.request</b>, <b>urllib.parse</b>, et <b>urllib.error</b>. L' outil <a href=\"https://docs.python.org/fr/2.7/glossary.html#term-2to3\">2to3</a> adaptera automatiquement les importations lors de la conversion de vos sources en Python 3. Notez également que la fonctioin urllib.request.urlopen() dans Python 3 est équivalente à urllib2.urlopen()et urllib.urlopen()a été supprimée. Nous nous focaliserons sur python3 pour cette présentation</p>\n",
    "<p style=\"text-align: justify; font-family: Georgia, serif; font-size: 17px\"> Urllib est un package qui rassemble plusieurs modules pour travailler avec des URL, tels que :\n",
    "    <ul style=\"text-align: justify; font-family: Georgia, serif; font-size: 17px; color: purple\">\n",
    "        <li>urllib.request pour l'ouverture et la lecture</li>\n",
    "        <li>urllib.parse pour l'analyse des URL</li>\n",
    "        <li>urllib.error pour les exceptions levées</li>\n",
    "        <li>urllib.robotparser pour l'analyse des fichiers robot.txt</li>\n",
    "    </ul>\n",
    "</p>"
   ]
  },
  {
   "cell_type": "markdown",
   "metadata": {},
   "source": [
    "### <left> <b> <span style=\"color:brown;font-family: Georgia, serif; font-size: 20px\"> Installation et utilisation: </span> </b></left>\n",
    "<p style=\"text-align: justify; font-family: Georgia, serif; font-size: 17px\">Si url lib n'est pas présente dans votre environnement de travail, vous pourriez l'installer avec: </p>\n",
    "\n",
    "### <code style=\"text-align: justify; font-family: Georgia, serif; font-size: 17px\">pip install urllib3</code>\n",
    "\n",
    "<p style=\"text-align: justify; font-family: Georgia, serif; font-size: 17px\">Une fois installez vous pourriez utiliser ce module pour vos projets.</p>"
   ]
  },
  {
   "cell_type": "markdown",
   "metadata": {},
   "source": [
    "## Passons à l'utilisation des modules de urllib"
   ]
  },
  {
   "cell_type": "markdown",
   "metadata": {},
   "source": [
    "<!--NAVIGATION-->\n",
    "< [Présentation](00.presentation.urllib.ipynb) | [Les modules de urllib](02.modules.urllib.ipynb) >"
   ]
  },
  {
   "cell_type": "markdown",
   "metadata": {},
   "source": [
    "<div style=\"font-size: 15px; font-family: cursive; text-align: right; color: orange\">Cours Python L3 Info IMSP - Bénin <a href='https://github.com/lumiereisrael7'> Lumière Israel </a> </div>"
   ]
  }
 ],
 "metadata": {
  "kernelspec": {
   "display_name": "Python 3",
   "language": "python",
   "name": "python3"
  },
  "language_info": {
   "codemirror_mode": {
    "name": "ipython",
    "version": 3
   },
   "file_extension": ".py",
   "mimetype": "text/x-python",
   "name": "python",
   "nbconvert_exporter": "python",
   "pygments_lexer": "ipython3",
   "version": "3.8.5"
  }
 },
 "nbformat": 4,
 "nbformat_minor": 4
}
