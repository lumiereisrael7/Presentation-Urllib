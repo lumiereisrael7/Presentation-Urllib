{
 "cells": [
  {
   "cell_type": "markdown",
   "metadata": {},
   "source": [
    "# <center style='color: green; font-size: 50px; font-family: Georgia, serif;'> Presentation de URLLIB </center>"
   ]
  },
  {
   "cell_type": "markdown",
   "metadata": {},
   "source": [
    "# <center> <b> <span style=\"color:blue; font-family: Georgia, serif; font-size: 40px\"> Conclusion </span> </b></center>"
   ]
  },
  {
   "cell_type": "markdown",
   "metadata": {},
   "source": [
    "<!--NAVIGATION-->\n",
    "< [Les modules de urllib](02.modules.urllib.ipynb) >"
   ]
  },
  {
   "cell_type": "markdown",
   "metadata": {},
   "source": [
    "### <left> <b> <span style=\"color:brown;font-family: Georgia, serif; font-size: 20px\"> Resumé: </span> </b></left>\n",
    "\n",
    "<p style=\"text-align: justify; font-family: Georgia, serif; font-size: 17px\"> Comme dit dans la présentation urllib est un module python qui offre une interface permettant d'interagir avec les pages webs. \n",
    "    Beaucoup d'autres utilisation en sont fait dans les tutoriels se trouvant dans les liens qui suivent. Nous n'en avons pas fait mention dans cette verison de ce tutoriel. Les autres versions qui seront disponibles sur <a href=\"https://github.com/lumiereisrael7/Presentation-urllib\">github</a> en feront mentions.\n",
    "<br> <br>"
   ]
  },
  {
   "cell_type": "markdown",
   "metadata": {},
   "source": [
    "### <left> <b> <span style=\"color:brown;font-family: Georgia, serif; font-size: 20px\"> Liens utiles: </span> </b></left>\n",
    "\n",
    "<p style=\"text-align: justify; font-family: Georgia, serif; font-size: 17px\"> \n",
    "    <ul>\n",
    "    <li><a href=\"https://pythonprogramming.net/urllib-tutorial-python-3/\">urllib tutorial python3</a></li>\n",
    "    <li><a href=\"https://docs.python.org/fr/3.8/library/urllib.html\">urllib documentation officielle</a></li>\n",
    "    <li><a href=\"https://www.geeksforgeeks.org/python-urllib-module/\">tutoriel geek for geek</a></li>\n",
    "    </ul>\n",
    "</p>"
   ]
  },
  {
   "cell_type": "markdown",
   "metadata": {},
   "source": [
    "<!--NAVIGATION-->\n",
    "< [Les modules de urllib](02.modules.urllib.ipynb) >"
   ]
  },
  {
   "cell_type": "markdown",
   "metadata": {},
   "source": [
    "<div style=\"font-size: 15px; font-family: cursive; text-align: right; color: orange\">Cours Python L3 Info IMSP - Bénin <a href='https://github.com/lumiereisrael7'> Lumière Israel </a> </div>"
   ]
  }
 ],
 "metadata": {
  "kernelspec": {
   "display_name": "Python 3",
   "language": "python",
   "name": "python3"
  },
  "language_info": {
   "codemirror_mode": {
    "name": "ipython",
    "version": 3
   },
   "file_extension": ".py",
   "mimetype": "text/x-python",
   "name": "python",
   "nbconvert_exporter": "python",
   "pygments_lexer": "ipython3",
   "version": "3.8.5"
  }
 },
 "nbformat": 4,
 "nbformat_minor": 4
}
